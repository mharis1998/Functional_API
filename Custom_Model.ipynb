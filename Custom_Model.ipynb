{
 "cells": [
  {
   "cell_type": "code",
   "execution_count": 1,
   "id": "b26312d7",
   "metadata": {},
   "outputs": [],
   "source": [
    "import tensorflow as tf\n",
    "import tensorflow_datasets as tfds\n",
    "from tensorflow.keras.layers import Layer"
   ]
  },
  {
   "cell_type": "markdown",
   "id": "25947492",
   "metadata": {},
   "source": [
    "\n",
    "## Quadratic Layer"
   ]
  },
  {
   "cell_type": "code",
   "execution_count": 2,
   "id": "f5317dc2",
   "metadata": {
    "hide_input": false
   },
   "outputs": [],
   "source": [
    "class SimpleQuadratic(Layer):\n",
    "    def __init__(self,units=32,activation=None): \n",
    "        super(SimpleQuadratic,self).__init__()\n",
    "        self.activation=tf.keras.activations.get(activation)\n",
    "        self.units=units\n",
    "    def build(self,input_shape):\n",
    "        a_int=tf.random_normal_initializer()\n",
    "        b_int=tf.random_normal_initializer()\n",
    "        c_int=tf.zeros_initializer()\n",
    "        self.a=tf.Variable(name='a',\n",
    "                          initial_value=a_int(shape=(input_shape[-1],self.units),dtype='float32'),trainable=True)\n",
    "        self.b=tf.Variable(name='b',\n",
    "                          initial_value=b_int(shape=(input_shape[-1],self.units),dtype='float32')\n",
    "                          ,trainable=True)\n",
    "        self.c=tf.Variable(name='c',\n",
    "                          initial_value=c_int(shape=(self.units,),dtype='float32')\n",
    "                          ,trainable=True)\n",
    "        \n",
    "    def call(self,inputs):\n",
    "        return self.activation(tf.matmul(tf.math.square(inputs),self.a)+tf.matmul(inputs,self.b)+self.c) "
   ]
  },
  {
   "cell_type": "code",
   "execution_count": null,
   "id": "a77e7f28",
   "metadata": {},
   "outputs": [],
   "source": []
  },
  {
   "cell_type": "code",
   "execution_count": 3,
   "id": "892ec0d0",
   "metadata": {},
   "outputs": [
    {
     "name": "stdout",
     "output_type": "stream",
     "text": [
      "Epoch 1/5\n",
      "1875/1875 [==============================] - 2s 864us/step - loss: 0.2651 - accuracy: 0.9219\n",
      "Epoch 2/5\n",
      "1875/1875 [==============================] - 2s 825us/step - loss: 0.1310 - accuracy: 0.9609\n",
      "Epoch 3/5\n",
      "1875/1875 [==============================] - 2s 819us/step - loss: 0.0998 - accuracy: 0.9696\n",
      "Epoch 4/5\n",
      "1875/1875 [==============================] - 2s 816us/step - loss: 0.0805 - accuracy: 0.9748\n",
      "Epoch 5/5\n",
      "1875/1875 [==============================] - 2s 826us/step - loss: 0.0701 - accuracy: 0.9777\n",
      "313/313 [==============================] - 0s 622us/step - loss: 0.0726 - accuracy: 0.9779\n"
     ]
    },
    {
     "data": {
      "text/plain": [
       "[0.07256614416837692, 0.9779000282287598]"
      ]
     },
     "execution_count": 3,
     "metadata": {},
     "output_type": "execute_result"
    }
   ],
   "source": [
    "mnist = tf.keras.datasets.mnist\n",
    "\n",
    "(x_train, y_train),(x_test, y_test) = mnist.load_data()\n",
    "x_train, x_test = x_train / 255.0, x_test / 255.0\n",
    "\n",
    "model = tf.keras.models.Sequential([\n",
    "   tf.keras.layers.Flatten(input_shape=(28, 28)),\n",
    "   SimpleQuadratic(128, activation='relu'),\n",
    "   tf.keras.layers.Dropout(0.2),\n",
    "   tf.keras.layers.Dense(10, activation='softmax')\n",
    " ])\n",
    "\n",
    "model.compile(optimizer='adam',\n",
    "               loss='sparse_categorical_crossentropy',\n",
    "               metrics=['accuracy'])\n",
    "\n",
    "model.fit(x_train, y_train, epochs=5)\n",
    "model.evaluate(x_test, y_test)"
   ]
  },
  {
   "cell_type": "code",
   "execution_count": 9,
   "id": "55921ba9",
   "metadata": {},
   "outputs": [],
   "source": [
    "# inherit from the Model base class\n",
    "class WideAndDeepModel(tf.keras.Model):\n",
    "    def __init__(self, units=30, activation='relu', **kwargs):\n",
    "        '''initializes the instance attributes'''\n",
    "        super().__init__(**kwargs)\n",
    "        self.hidden1 = tf.keras.layers.Dense(units, activation=activation)\n",
    "        self.hidden2 = Dense(units, activation=activation)\n",
    "        self.main_output = Dense(1)\n",
    "        self.aux_output = Dense(1)\n",
    "\n",
    "    def call(self, inputs):\n",
    "        '''defines the network architecture'''\n",
    "        input_A, input_B = inputs\n",
    "        hidden1 = self.hidden1(input_B)\n",
    "        hidden2 = self.hidden2(hidden1)\n",
    "        concat = concatenate([input_A, hidden2])\n",
    "        main_output = self.main_output(concat)\n",
    "        aux_output = self.aux_output(hidden2)\n",
    "        \n",
    "        return main_output, aux_output"
   ]
  },
  {
   "cell_type": "markdown",
   "id": "5cae7ef0",
   "metadata": {},
   "source": [
    "## Resnet_Model\n",
    "#### Implement Model Subclass"
   ]
  },
  {
   "cell_type": "code",
   "execution_count": 10,
   "id": "363aea71",
   "metadata": {},
   "outputs": [],
   "source": [
    "class IdentityBlock(tf.keras.Model):\n",
    "    def __init__(self,filters,kernel_size):\n",
    "        super().__init__(name='')\n",
    "        self.conv1=tf.keras.layers.Conv2D(filters,kernel_size,padding='same')\n",
    "        self.conv2=tf.keras.layers.Conv2D(filters,kernel_size,padding='same')\n",
    "        self.bn1=tf.keras.layers.BatchNormalization()\n",
    "        self.act=tf.keras.layers.Activation('relu')\n",
    "        self.add=tf.keras.layers.Add()\n",
    "    def call(self,input_tensor):\n",
    "        x=self.conv1(input_tensor)\n",
    "        x=self.bn1(x)\n",
    "        x=self.act(x)\n",
    "        x=self.conv2(x)\n",
    "        x=self.bn1(x)\n",
    "        x=self.add([x,input_tensor])\n",
    "        x=self.act(x)\n",
    "        return x"
   ]
  },
  {
   "cell_type": "code",
   "execution_count": 11,
   "id": "2f6801c8",
   "metadata": {},
   "outputs": [],
   "source": [
    "class Resnet(tf.keras.Model):\n",
    "    def __init__(self,num_classes):\n",
    "        super().__init__()\n",
    "        self.con=tf.keras.layers.Conv2D(64,7,padding='same')\n",
    "        self.bn=tf.keras.layers.BatchNormalization()\n",
    "        self.act=tf.keras.layers.Activation('relu')\n",
    "        self.max_pol=tf.keras.layers.MaxPool2D((3,3))\n",
    "        self.idbl1= IdentityBlock(64,3)\n",
    "        self.idblb= IdentityBlock(64,3)\n",
    "        self.global_pool = tf.keras.layers.GlobalAveragePooling2D()\n",
    "        self.quad=SimpleQuadratic(32,activation='relu')\n",
    "        self.classifier = tf.keras.layers.Dense(num_classes, activation='softmax')\n",
    "    def call(self,inputs):\n",
    "        x=self.con(inputs)\n",
    "        x=self.bn(x)\n",
    "        x=self.act(x)\n",
    "        x=self.max_pol(x)\n",
    "        x=self.idbl1(x)\n",
    "        x=self.idblb(x)\n",
    "        x=self.global_pool(x)\n",
    "        x=self.quad(x)\n",
    "        return self.classifier(x)"
   ]
  },
  {
   "cell_type": "code",
   "execution_count": 13,
   "id": "eaeeb8ca",
   "metadata": {},
   "outputs": [
    {
     "ename": "NameError",
     "evalue": "name 'Dense' is not defined",
     "output_type": "error",
     "traceback": [
      "\u001b[1;31m---------------------------------------------------------------------------\u001b[0m",
      "\u001b[1;31mNameError\u001b[0m                                 Traceback (most recent call last)",
      "Input \u001b[1;32mIn [13]\u001b[0m, in \u001b[0;36m<cell line: 6>\u001b[1;34m()\u001b[0m\n\u001b[0;32m      3\u001b[0m     \u001b[38;5;28;01mreturn\u001b[39;00m tf\u001b[38;5;241m.\u001b[39mcast(features[\u001b[38;5;124m'\u001b[39m\u001b[38;5;124mimage\u001b[39m\u001b[38;5;124m'\u001b[39m], tf\u001b[38;5;241m.\u001b[39mfloat32) \u001b[38;5;241m/\u001b[39m \u001b[38;5;241m255.\u001b[39m, features[\u001b[38;5;124m'\u001b[39m\u001b[38;5;124mlabel\u001b[39m\u001b[38;5;124m'\u001b[39m]\n\u001b[0;32m      5\u001b[0m \u001b[38;5;66;03m# create a ResNet instance with 10 output units for MNIST\u001b[39;00m\n\u001b[1;32m----> 6\u001b[0m resnet \u001b[38;5;241m=\u001b[39m \u001b[43mWideAndDeepModel\u001b[49m\u001b[43m(\u001b[49m\u001b[38;5;241;43m10\u001b[39;49m\u001b[43m)\u001b[49m\n\u001b[0;32m      7\u001b[0m resnet\u001b[38;5;241m.\u001b[39mcompile(optimizer\u001b[38;5;241m=\u001b[39m\u001b[38;5;124m'\u001b[39m\u001b[38;5;124madam\u001b[39m\u001b[38;5;124m'\u001b[39m, loss\u001b[38;5;241m=\u001b[39m\u001b[38;5;124m'\u001b[39m\u001b[38;5;124msparse_categorical_crossentropy\u001b[39m\u001b[38;5;124m'\u001b[39m, metrics\u001b[38;5;241m=\u001b[39m[\u001b[38;5;124m'\u001b[39m\u001b[38;5;124maccuracy\u001b[39m\u001b[38;5;124m'\u001b[39m])\n\u001b[0;32m      9\u001b[0m \u001b[38;5;66;03m# load and preprocess the dataset\u001b[39;00m\n",
      "Input \u001b[1;32mIn [9]\u001b[0m, in \u001b[0;36mWideAndDeepModel.__init__\u001b[1;34m(self, units, activation, **kwargs)\u001b[0m\n\u001b[0;32m      5\u001b[0m \u001b[38;5;28msuper\u001b[39m()\u001b[38;5;241m.\u001b[39m\u001b[38;5;21m__init__\u001b[39m(\u001b[38;5;241m*\u001b[39m\u001b[38;5;241m*\u001b[39mkwargs)\n\u001b[0;32m      6\u001b[0m \u001b[38;5;28mself\u001b[39m\u001b[38;5;241m.\u001b[39mhidden1 \u001b[38;5;241m=\u001b[39m tf\u001b[38;5;241m.\u001b[39mkeras\u001b[38;5;241m.\u001b[39mlayers\u001b[38;5;241m.\u001b[39mDense(units, activation\u001b[38;5;241m=\u001b[39mactivation)\n\u001b[1;32m----> 7\u001b[0m \u001b[38;5;28mself\u001b[39m\u001b[38;5;241m.\u001b[39mhidden2 \u001b[38;5;241m=\u001b[39m \u001b[43mDense\u001b[49m(units, activation\u001b[38;5;241m=\u001b[39mactivation)\n\u001b[0;32m      8\u001b[0m \u001b[38;5;28mself\u001b[39m\u001b[38;5;241m.\u001b[39mmain_output \u001b[38;5;241m=\u001b[39m Dense(\u001b[38;5;241m1\u001b[39m)\n\u001b[0;32m      9\u001b[0m \u001b[38;5;28mself\u001b[39m\u001b[38;5;241m.\u001b[39maux_output \u001b[38;5;241m=\u001b[39m Dense(\u001b[38;5;241m1\u001b[39m)\n",
      "\u001b[1;31mNameError\u001b[0m: name 'Dense' is not defined"
     ]
    }
   ],
   "source": [
    "# utility function to normalize the images and return (image, label) pairs.\n",
    "def preprocess(features):\n",
    "    return tf.cast(features['image'], tf.float32) / 255., features['label']\n",
    "\n",
    "# create a ResNet instance with 10 output units for MNIST\n",
    "resnet = WideAndDeepModel(10)\n",
    "resnet.compile(optimizer='adam', loss='sparse_categorical_crossentropy', metrics=['accuracy'])\n",
    "\n",
    "# load and preprocess the dataset\n",
    "dataset = tfds.load('mnist', split=tfds.Split.TRAIN, data_dir='./data')\n",
    "dataset = dataset.map(preprocess).batch(32)\n",
    "\n",
    "# train the model.\n",
    "resnet.fit(dataset, epochs=1)"
   ]
  },
  {
   "cell_type": "markdown",
   "id": "932b5194",
   "metadata": {},
   "source": [
    "### Callbacks"
   ]
  },
  {
   "cell_type": "code",
   "execution_count": null,
   "id": "4401c753",
   "metadata": {},
   "outputs": [],
   "source": [
    "class myCallback(tf.keras.callbacks.Callback):\n",
    "    def on_epoch_end(self, epoch, logs={}):\n",
    "    '''\n",
    "    Halts the training after reaching 60 percent accuracy\n",
    "\n",
    "    Args:\n",
    "      epoch (integer) - index of epoch (required but unused in the function definition below)\n",
    "      logs (dict) - metric results from the training epoch\n",
    "    '''\n",
    "\n",
    "    # Check accuracy\n",
    "    if(logs.get('loss') < 0.4):\n",
    "        print(\"\\nLoss is lower than 0.4 so cancelling training!\")\n",
    "        self.model.stop_training = True\n",
    "\n",
    "# Instantiate class\n",
    "callbacks = myCallback()"
   ]
  },
  {
   "cell_type": "code",
   "execution_count": null,
   "id": "b089d471",
   "metadata": {},
   "outputs": [],
   "source": [
    "%%latex"
   ]
  }
 ],
 "metadata": {
  "hide_input": false,
  "kernelspec": {
   "display_name": "Python 3 (ipykernel)",
   "language": "python",
   "name": "python3"
  },
  "language_info": {
   "codemirror_mode": {
    "name": "ipython",
    "version": 3
   },
   "file_extension": ".py",
   "mimetype": "text/x-python",
   "name": "python",
   "nbconvert_exporter": "python",
   "pygments_lexer": "ipython3",
   "version": "3.9.7"
  }
 },
 "nbformat": 4,
 "nbformat_minor": 5
}
